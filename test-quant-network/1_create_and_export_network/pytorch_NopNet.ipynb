{
 "cells": [
  {
   "cell_type": "code",
   "execution_count": 2,
   "metadata": {},
   "outputs": [
    {
     "name": "stderr",
     "output_type": "stream",
     "text": [
      "f:\\Documents\\Firma\\Projekte\\Metirionic\\code\\deus\\khadas\\example-network\\1_create_and_export_network\\venv\\lib\\site-packages\\tqdm\\auto.py:22: TqdmWarning: IProgress not found. Please update jupyter and ipywidgets. See https://ipywidgets.readthedocs.io/en/stable/user_install.html\n",
      "  from .autonotebook import tqdm as notebook_tqdm\n"
     ]
    }
   ],
   "source": [
    "import os\n",
    "import torch\n",
    "import torch.nn as nn\n",
    "import PIL\n",
    "import numpy as np\n",
    "import cv2 as cv\n",
    "import matplotlib.pyplot as plt"
   ]
  },
  {
   "cell_type": "code",
   "execution_count": 3,
   "metadata": {},
   "outputs": [],
   "source": [
    "width = 28\n",
    "height = 28\n",
    "image_folder = \"./test_images/\"\n",
    "\n",
    "\n",
    "# NOTE1: Images in bmp format are NHWC meaning RGB, RGB, RGB, .... and the array would be defined [batch, height, width, channels]\n",
    "# NOTE2: NCHW would mean that each color is completely encoded first ie. RRRR GGGG BBBB and it would be defined: [batch, channels, height, width]"
   ]
  },
  {
   "cell_type": "code",
   "execution_count": 8,
   "metadata": {},
   "outputs": [],
   "source": [
    "class NopNet(nn.Module):\n",
    "    def __init__(self):\n",
    "        super(NopNet, self).__init__()\n",
    "        self.flatten = nn.Flatten(0)\n",
    "\n",
    "    def forward(self, x):\n",
    "        x = self.flatten(x)\n",
    "        # this will create a white stripe in the first 3 * 10 (10px) since we here have NHWC (== RGB RGB RGB ..)\n",
    "        p = [127]*30 + [0]*2322\n",
    "        pt = torch.tensor(p)\n",
    "        x = x + pt\n",
    "        return x\n",
    "    \n",
    "    def name(self):\n",
    "        return \"NopNet\""
   ]
  },
  {
   "cell_type": "code",
   "execution_count": 9,
   "metadata": {
    "scrolled": false
   },
   "outputs": [
    {
     "name": "stdout",
     "output_type": "stream",
     "text": [
      "(28, 28, 3)\n",
      "tensor([[0, 0, 0, 0, 0],\n",
      "        [0, 0, 0, 0, 0],\n",
      "        [0, 0, 0, 0, 0],\n",
      "        [0, 0, 0, 0, 0],\n",
      "        [0, 0, 0, 0, 0]], dtype=torch.uint8)\n",
      "output after reshape\n",
      "[[127 127 127 127 127]\n",
      " [  0   0   0   0   0]\n",
      " [  0   0   0   0   0]\n",
      " [  0   0   0   0 253]\n",
      " [  0   0   0 252  18]]\n",
      "output after rescale\n",
      "[[127 127 127 127 127]\n",
      " [  0   0   0   0   0]\n",
      " [  0   0   0   0   0]\n",
      " [  0   0   0   0 253]\n",
      " [  0   0   0 252  18]]\n"
     ]
    },
    {
     "data": {
      "image/png": "[encoded data removed]",
      "text/plain": [
       "<Figure size 432x288 with 1 Axes>"
      ]
     },
     "metadata": {
      "needs_background": "light"
     },
     "output_type": "display_data"
    },
    {
     "data": {
      "image/png": "[encoded data removed]",
      "text/plain": [
       "<Figure size 432x288 with 1 Axes>"
      ]
     },
     "metadata": {
      "needs_background": "light"
     },
     "output_type": "display_data"
    }
   ],
   "source": [
    "### TEST\n",
    "\n",
    "nope = NopNet()\n",
    "\n",
    "for i in range(0,1):\n",
    "    im = cv.imread(image_folder+\"%s.bmp\"%i, cv.IMREAD_COLOR)\n",
    "    \n",
    "    print(im.shape)\n",
    "    \n",
    "    # show original image\n",
    "    plt.figure()\n",
    "    plt.imshow(im)\n",
    "    #print(im[0:5,0:5,0])\n",
    "    #im = im.astype(float)\n",
    "    #im = (im - 127.5) / 127.5\n",
    "    #print(im[0:5,0:5,0])\n",
    "    #,1,2 ... 2,0,1\n",
    "    \n",
    "    # nop image\n",
    "    \n",
    "    # NORMAL\n",
    "    img_tensor = torch.from_numpy(im)\n",
    "    \n",
    "\n",
    "    print(img_tensor[0:5,0:5,0])\n",
    "\n",
    "    # for testing: change image from nhwc (RGB RGB ...) to nchw (RRGGBB) before nw input .. this is probably done automatically by the network\n",
    "    img_tensor = torch.from_numpy(im.transpose(2,0,1) ) \n",
    "    \n",
    "    res = nope(img_tensor)\n",
    "       \n",
    "    \n",
    "    # show noped image\n",
    "    # for testing change output from nchw to nchw after nn\n",
    "    #res_img = np.array(res.tolist()).reshape(28,28,3).transpose(2,1,0).reshape(28,28,3) * 255.\n",
    "    \n",
    "    # we suppose transpose is done automatically \n",
    "    #res_img = np.array(res.tolist()).reshape(3,28,28).transpose(1,2,0) * 255.\n",
    "    \n",
    "    # NORMAL\n",
    "    # expected imshow format: HxWxC\n",
    "    res_img = np.array(res.tolist()).reshape(28,28,3)\n",
    "    print(\"output after reshape\")\n",
    "    print(res_img[0:5,0:5,0])\n",
    "    \n",
    "    #res_img = (res_img * 127.5) + 127.5\n",
    "    \n",
    "    res_img = res_img.astype(np.uint8)\n",
    "    print(\"output after rescale\")\n",
    "    print(res_img[0:5,0:5,0])\n",
    "\n",
    "    plt.figure()\n",
    "    plt.imshow(res_img)\n",
    "\n",
    "\n"
   ]
  },
  {
   "cell_type": "code",
   "execution_count": 10,
   "metadata": {
    "scrolled": false
   },
   "outputs": [
    {
     "name": "stdout",
     "output_type": "stream",
     "text": [
      "graph(%input : Float(1, 3, 28, 28, strides=[2352, 784, 28, 1], requires_grad=0, device=cpu)):\n",
      "  %1 : Long(4, strides=[1], device=cpu) = onnx::Shape(%input) # f:\\Documents\\Firma\\Projekte\\Metirionic\\code\\deus\\khadas\\example-network\\1_create_and_export_network\\venv\\lib\\site-packages\\torch\\nn\\modules\\flatten.py:45:0\n",
      "  %2 : Long(0, strides=[1], device=cpu) = onnx::Slice[axes=[0], ends=[0], starts=[0]](%1) # f:\\Documents\\Firma\\Projekte\\Metirionic\\code\\deus\\khadas\\example-network\\1_create_and_export_network\\venv\\lib\\site-packages\\torch\\nn\\modules\\flatten.py:45:0\n",
      "  %3 : Long(1, strides=[1], device=cpu) = onnx::Constant[value={-1}]() # f:\\Documents\\Firma\\Projekte\\Metirionic\\code\\deus\\khadas\\example-network\\1_create_and_export_network\\venv\\lib\\site-packages\\torch\\nn\\modules\\flatten.py:45:0\n",
      "  %8 : Long(1, strides=[1], requires_grad=0, device=cpu) = onnx::Cast[to=7](%3) # f:\\Documents\\Firma\\Projekte\\Metirionic\\code\\deus\\khadas\\example-network\\1_create_and_export_network\\venv\\lib\\site-packages\\torch\\nn\\modules\\flatten.py:45:0\n",
      "  %4 : Long(1, strides=[1], device=cpu) = onnx::Concat[axis=0](%2, %8) # f:\\Documents\\Firma\\Projekte\\Metirionic\\code\\deus\\khadas\\example-network\\1_create_and_export_network\\venv\\lib\\site-packages\\torch\\nn\\modules\\flatten.py:45:0\n",
      "  %5 : Float(*, strides=[1], requires_grad=0, device=cpu) = onnx::Reshape(%input, %4) # f:\\Documents\\Firma\\Projekte\\Metirionic\\code\\deus\\khadas\\example-network\\1_create_and_export_network\\venv\\lib\\site-packages\\torch\\nn\\modules\\flatten.py:45:0\n",
      "  %6 : Float(2352, strides=[1], requires_grad=0, device=cpu) = onnx::Constant[value=<Tensor>]()\n",
      "  %output : Float(*, strides=[1], requires_grad=0, device=cpu) = onnx::Add(%5, %6) # C:\\Users\\scholz\\AppData\\Local\\Temp\\ipykernel_12852\\2995843070.py:11:0\n",
      "  return (%output)\n",
      "\n"
     ]
    },
    {
     "name": "stderr",
     "output_type": "stream",
     "text": [
      "C:\\Users\\scholz\\AppData\\Local\\Temp\\ipykernel_12852\\2995843070.py:10: TracerWarning: torch.tensor results are registered as constants in the trace. You can safely ignore this warning if you use this function to create tensors out of constant variables that would be the same every time you call this function. In any other case, this might cause the trace to be incorrect.\n",
      "  pt = torch.tensor(p)\n"
     ]
    }
   ],
   "source": [
    "### EXPORT\n",
    "\n",
    "input_dimension = torch.randn(1,3,28,28,dtype=torch.float)\n",
    "\n",
    "\n",
    "torch.onnx.export(\n",
    "                  nope, \n",
    "                  input_dimension, \n",
    "                  \"nopnet.onnx\",\n",
    "                  opset_version=7,\n",
    "                  verbose=True,\n",
    "                  export_params=True, \n",
    "                  input_names=['input'],\n",
    "                  output_names=['output'],\n",
    "                  dynamic_axes=None,\n",
    "                  #dynamic_axes={'input': {0: 'batch', 2: 'height', 3: 'width'},  # shape(1,1,28,28)\n",
    "                  #              'output': {0: 'batch', 1: 'classes'} }  # shape(1,10)\n",
    ")\n",
    "          "
   ]
  },
  {
   "cell_type": "markdown",
   "metadata": {},
   "source": []
  },
  {
   "cell_type": "markdown",
   "metadata": {},
   "source": [
    "## check exported nope model"
   ]
  },
  {
   "cell_type": "code",
   "execution_count": 11,
   "metadata": {},
   "outputs": [
    {
     "data": {
      "text/plain": [
       "'graph torch-jit-export (\\n  %input[FLOAT, 1x3x28x28]\\n) {\\n  %onnx::Slice_1 = Shape(%input)\\n  %onnx::Concat_2 = Slice[axes = [0], ends = [0], starts = [0]](%onnx::Slice_1)\\n  %onnx::Cast_3 = Constant[value = <Tensor>]()\\n  %onnx::Concat_8 = Cast[to = 7](%onnx::Cast_3)\\n  %onnx::Reshape_4 = Concat[axis = 0](%onnx::Concat_2, %onnx::Concat_8)\\n  %onnx::Add_5 = Reshape(%input, %onnx::Reshape_4)\\n  %onnx::Add_6 = Constant[value = <Tensor>]()\\n  %output = Add(%onnx::Add_5, %onnx::Add_6)\\n  return %output\\n}'"
      ]
     },
     "execution_count": 11,
     "metadata": {},
     "output_type": "execute_result"
    }
   ],
   "source": [
    "import onnx\n",
    "\n",
    "# Load the ONNX model\n",
    "model = onnx.load(\"nopnet.onnx\")\n",
    "\n",
    "# Check that the IR is well formed\n",
    "onnx.checker.check_model(model)\n",
    "\n",
    "# Print a Human readable representation of the graph\n",
    "onnx.helper.printable_graph(model.graph)"
   ]
  }
 ],
 "metadata": {
  "kernelspec": {
   "display_name": "py39-teconet",
   "language": "python",
   "name": "py39-teconet"
  },
  "language_info": {
   "codemirror_mode": {
    "name": "ipython",
    "version": 3
   },
   "file_extension": ".py",
   "mimetype": "text/x-python",
   "name": "python",
   "nbconvert_exporter": "python",
   "pygments_lexer": "ipython3",
   "version": "3.9.1"
  }
 },
 "nbformat": 4,
 "nbformat_minor": 4
}
